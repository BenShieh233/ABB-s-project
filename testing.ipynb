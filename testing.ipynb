{
 "cells": [
  {
   "cell_type": "code",
   "execution_count": 15,
   "metadata": {},
   "outputs": [],
   "source": [
    "from webscraping import SECScraper\n",
    "from financial_info import DocScraper"
   ]
  },
  {
   "cell_type": "markdown",
   "metadata": {},
   "source": [
    "### Testing SECScraper"
   ]
  },
  {
   "cell_type": "markdown",
   "metadata": {},
   "source": [
    "#### 1. Extract General Mills's 2023 10-K report."
   ]
  },
  {
   "cell_type": "code",
   "execution_count": 16,
   "metadata": {},
   "outputs": [],
   "source": [
    "CIK = \"40704\"\n",
    "Year = \"2023\"\n",
    "FILE = \"10-K\"\n",
    "headers = {\"User-Agent\": \"bxie43@wisc.edu\"}"
   ]
  },
  {
   "cell_type": "code",
   "execution_count": 17,
   "metadata": {},
   "outputs": [
    {
     "data": {
      "text/plain": [
       "'https://www.sec.gov/Archives/edgar/data/40704/0001193125-23-177500.txt'"
      ]
     },
     "execution_count": 17,
     "metadata": {},
     "output_type": "execute_result"
    }
   ],
   "source": [
    "scraper = SECScraper(CIK, Year, FILE, headers)\n",
    "GIS_file = scraper.scrape_sec_data()[0]\n",
    "GIS_file"
   ]
  },
  {
   "cell_type": "markdown",
   "metadata": {},
   "source": [
    "#### 2. Extract General Mill's 2022 10-K report"
   ]
  },
  {
   "cell_type": "code",
   "execution_count": 18,
   "metadata": {},
   "outputs": [
    {
     "data": {
      "text/plain": [
       "'https://www.sec.gov/Archives/edgar/data/40704/0001193125-22-185257.txt'"
      ]
     },
     "execution_count": 18,
     "metadata": {},
     "output_type": "execute_result"
    }
   ],
   "source": [
    "Year = \"2022\"\n",
    "scraper = SECScraper(CIK, Year, FILE, headers)\n",
    "GIS_file = scraper.scrape_sec_data()[0]\n",
    "GIS_file"
   ]
  },
  {
   "cell_type": "markdown",
   "metadata": {},
   "source": [
    "#### 3. Extract General Mill's 2023 10-Q reports"
   ]
  },
  {
   "cell_type": "code",
   "execution_count": 19,
   "metadata": {},
   "outputs": [
    {
     "data": {
      "text/plain": [
       "['https://www.sec.gov/Archives/edgar/data/40704/0001193125-22-082733.txt',\n",
       " 'https://www.sec.gov/Archives/edgar/data/40704/0001193125-22-248384.txt',\n",
       " 'https://www.sec.gov/Archives/edgar/data/40704/0001193125-22-309146.txt']"
      ]
     },
     "execution_count": 19,
     "metadata": {},
     "output_type": "execute_result"
    }
   ],
   "source": [
    "Year = \"2022\"\n",
    "FILE = '10-Q'\n",
    "scraper = SECScraper(CIK, Year, FILE, headers)\n",
    "GIS_file = scraper.scrape_sec_data()\n",
    "GIS_file"
   ]
  },
  {
   "cell_type": "markdown",
   "metadata": {},
   "source": [
    "#### 4. Extract General Mill's 2023 8-K reports"
   ]
  },
  {
   "cell_type": "code",
   "execution_count": 28,
   "metadata": {},
   "outputs": [
    {
     "data": {
      "text/plain": [
       "['https://www.sec.gov/Archives/edgar/data/40704/0001193125-23-077267.txt',\n",
       " 'https://www.sec.gov/Archives/edgar/data/40704/0001193125-23-082990.txt',\n",
       " 'https://www.sec.gov/Archives/edgar/data/40704/0001193125-23-099852.txt',\n",
       " 'https://www.sec.gov/Archives/edgar/data/40704/0001193125-23-137156.txt',\n",
       " 'https://www.sec.gov/Archives/edgar/data/40704/0001193125-23-176744.txt',\n",
       " 'https://www.sec.gov/Archives/edgar/data/40704/0001193125-23-238038.txt',\n",
       " 'https://www.sec.gov/Archives/edgar/data/40704/0001193125-23-247516.txt']"
      ]
     },
     "execution_count": 28,
     "metadata": {},
     "output_type": "execute_result"
    }
   ],
   "source": [
    "Year = \"2023\"\n",
    "FILE = '8-K'\n",
    "scraper = SECScraper(CIK, Year, FILE, headers)\n",
    "GIS_file = scraper.scrape_sec_data()\n",
    "GIS_file"
   ]
  },
  {
   "cell_type": "markdown",
   "metadata": {},
   "source": [
    "### Testing DocScraper"
   ]
  },
  {
   "cell_type": "code",
   "execution_count": 29,
   "metadata": {},
   "outputs": [],
   "source": [
    "CIK = \"40704\"\n",
    "Year = \"2023\"\n",
    "FILE = \"10-K\"\n",
    "headers = {\"User-Agent\": \"bxie43@wisc.edu\"}\n",
    "scraper = SECScraper(CIK, Year, FILE, headers)\n",
    "GIS_file = scraper.scrape_sec_data()[0]"
   ]
  },
  {
   "cell_type": "markdown",
   "metadata": {},
   "source": [
    "#### 1. Output General Mills' financial information from Item1A, Item7, and Item7A from 2023 10-K report "
   ]
  },
  {
   "cell_type": "code",
   "execution_count": 31,
   "metadata": {},
   "outputs": [
    {
     "name": "stdout",
     "output_type": "stream",
     "text": [
      "item1a : ITEM 1A - Risk Facto\n",
      "item7 : ITEM 7 - Management’\n",
      "item7a : ITEM 7A - QUANTITATI\n"
     ]
    }
   ],
   "source": [
    "GIS_fin = DocScraper(GIS_file, FILE, headers)\n",
    "fin_item = GIS_fin.get_fin() # Output as a dictionary\n",
    "keys = fin_item.keys()\n",
    "for key in keys:\n",
    "    print(key, \":\", fin_item[key][:20])\n",
    "        "
   ]
  }
 ],
 "metadata": {
  "kernelspec": {
   "display_name": "base",
   "language": "python",
   "name": "python3"
  },
  "language_info": {
   "codemirror_mode": {
    "name": "ipython",
    "version": 3
   },
   "file_extension": ".py",
   "mimetype": "text/x-python",
   "name": "python",
   "nbconvert_exporter": "python",
   "pygments_lexer": "ipython3",
   "version": "3.9.13"
  }
 },
 "nbformat": 4,
 "nbformat_minor": 2
}
